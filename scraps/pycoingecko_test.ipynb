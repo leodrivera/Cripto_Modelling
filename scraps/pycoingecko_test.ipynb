{
 "cells": [
  {
   "cell_type": "markdown",
   "metadata": {
    "colab_type": "text",
    "id": "view-in-github"
   },
   "source": [
    "<a href=\"https://colab.research.google.com/github/leodrivera/Cripto_Modelling/blob/main/pycoingecko_test.ipynb\" target=\"_parent\"><img src=\"https://colab.research.google.com/assets/colab-badge.svg\" alt=\"Open In Colab\"/></a>"
   ]
  },
  {
   "cell_type": "markdown",
   "metadata": {
    "id": "K9KrcP5pFbeT"
   },
   "source": [
    "# Código para testar as funções da api da coingecko\n",
    "\n",
    "## Documentação:\n",
    "- API: https://www.coingecko.com/api/documentations/v3\n",
    "- Python Wrapper: https://github.com/man-c/pycoingecko\n",
    "\n"
   ]
  },
  {
   "cell_type": "markdown",
   "metadata": {
    "id": "sMbgsBLPQHBh"
   },
   "source": []
  },
  {
   "cell_type": "markdown",
   "metadata": {
    "id": "8fJb_LJdQND4"
   },
   "source": [
    "## Código para testar as funções da api da coingecko\n",
    "\n",
    "### Documentação:\n",
    "- API: https://www.coingecko.com/api/documentations/v3\n",
    "- Python Wrapper: https://github.com/man-c/pycoingecko"
   ]
  },
  {
   "cell_type": "code",
   "execution_count": 1,
   "metadata": {
    "colab": {
     "base_uri": "https://localhost:8080/"
    },
    "id": "sKdVqR-9CaAY",
    "outputId": "d5755be7-3eca-4ef6-82e8-add3797ca51e"
   },
   "outputs": [
    {
     "name": "stdout",
     "output_type": "stream",
     "text": [
      "Requirement already satisfied: pycoingecko in c:\\users\\leodr\\anaconda3\\lib\\site-packages (1.4.0)\n",
      "Requirement already satisfied: requests in c:\\users\\leodr\\anaconda3\\lib\\site-packages (from pycoingecko) (2.25.1)\n",
      "Requirement already satisfied: certifi>=2017.4.17 in c:\\users\\leodr\\anaconda3\\lib\\site-packages (from requests->pycoingecko) (2020.12.5)\n",
      "Requirement already satisfied: urllib3<1.27,>=1.21.1 in c:\\users\\leodr\\anaconda3\\lib\\site-packages (from requests->pycoingecko) (1.26.4)\n",
      "Requirement already satisfied: chardet<5,>=3.0.2 in c:\\users\\leodr\\anaconda3\\lib\\site-packages (from requests->pycoingecko) (4.0.0)\n",
      "Requirement already satisfied: idna<3,>=2.5 in c:\\users\\leodr\\anaconda3\\lib\\site-packages (from requests->pycoingecko) (2.10)\n"
     ]
    }
   ],
   "source": [
    "!pip install pycoingecko"
   ]
  },
  {
   "cell_type": "code",
   "execution_count": 2,
   "metadata": {
    "id": "runtOtlGCvO1"
   },
   "outputs": [],
   "source": [
    "import re\n",
    "from pycoingecko import CoinGeckoAPI\n",
    "from datetime import datetime"
   ]
  },
  {
   "cell_type": "code",
   "execution_count": 3,
   "metadata": {
    "id": "BhuAk57pWavM"
   },
   "outputs": [],
   "source": [
    "cg = CoinGeckoAPI()"
   ]
  },
  {
   "cell_type": "markdown",
   "metadata": {
    "id": "IVeN_8KwFNF0"
   },
   "source": [
    "Verique o preço de uma moeda em relação a outra"
   ]
  },
  {
   "cell_type": "code",
   "execution_count": 4,
   "metadata": {
    "colab": {
     "base_uri": "https://localhost:8080/"
    },
    "id": "AW95Wtj2DGlS",
    "outputId": "caedcdfe-08c1-4548-9bb4-c4edb7b3c29d"
   },
   "outputs": [
    {
     "data": {
      "text/plain": [
       "{'cardano': {'usd': 1.58}}"
      ]
     },
     "execution_count": 4,
     "metadata": {},
     "output_type": "execute_result"
    }
   ],
   "source": [
    "cg.get_price(ids='cardano', vs_currencies='USD')"
   ]
  },
  {
   "cell_type": "markdown",
   "metadata": {
    "id": "u9CBumscQhGO"
   },
   "source": [
    "Converter de *utc* para *linux timestamp*"
   ]
  },
  {
   "cell_type": "code",
   "execution_count": 5,
   "metadata": {
    "id": "eJnUZH4eUHks"
   },
   "outputs": [],
   "source": [
    "def utc_to_timestamp(data):\n",
    "    '''\n",
    "    Get the date from the format dd/mm/yyyy and convert to timestamp\n",
    "    '''\n",
    "    #Get day, month, year\n",
    "    data = data.split('/')\n",
    "    day = re.sub('^0','',data[0])\n",
    "    month = re.sub('^0','',data[1])\n",
    "    year = data[2]\n",
    "\n",
    "    #Put into the yyyy/mm/dd format\n",
    "    date = datetime(int(year), int(month), int(day))\n",
    "\n",
    "    #Remove decimal part\n",
    "    \n",
    "    return '{:.0f}'.format(datetime.timestamp(date))\n",
    "\n",
    "def timestamp_to_utc(data):\n",
    "    '''\n",
    "    Get the date from the format timestamp, Ex: 1619913921870, and convert to format dd/mm/yyy, in a tuple\n",
    "    '''\n",
    "    data = datetime.fromtimestamp(int(data)/1000)\n",
    "\n",
    "    #Get day, month, year\n",
    "    day = '{:02.0f}'.format(data.day)\n",
    "    month = '{:02.0f}'.format(data.month)\n",
    "    year = '{:04.0f}'.format(data.year)\n",
    "    hour = '{:02.0f}'.format(data.hour)\n",
    "    minute = '{:02.0f}'.format(data.minute)\n",
    "\n",
    "    return (day,month,year,hour,minute)\n",
    "\n",
    "def adjust_date(data):\n",
    "    new_dict = {}\n",
    "    for categories, values in data.items():\n",
    "        new_list = []\n",
    "        for stamp in values:\n",
    "            day,month,year,hour,minute=timestamp_to_utc(stamp[0])\n",
    "            new_list.append([f'{day}/{month}/{year} {hour}:{minute}', stamp[1]])\n",
    "        new_dict[categories] = new_list\n",
    "    return new_dict\n"
   ]
  },
  {
   "cell_type": "code",
   "execution_count": 6,
   "metadata": {
    "colab": {
     "base_uri": "https://localhost:8080/"
    },
    "id": "t9jpqOsgXS6y",
    "outputId": "d99cc2a1-0472-4e3e-b51c-84b9879044b1"
   },
   "outputs": [
    {
     "name": "stdout",
     "output_type": "stream",
     "text": [
      "1619924400\n",
      "19/01/1970 15:00\n"
     ]
    }
   ],
   "source": [
    "#formato dia/mes/ano\n",
    "data_ini = '02/05/2021'\n",
    "\n",
    "stamp = utc_to_timestamp(data_ini)\n",
    "print(stamp)\n",
    "\n",
    "day,month,year,hour,minute=timestamp_to_utc('1620036000')\n",
    "print(f'{day}/{month}/{year} {hour}:{minute}')"
   ]
  },
  {
   "cell_type": "code",
   "execution_count": 7,
   "metadata": {
    "id": "wXUcO-hDDFN7"
   },
   "outputs": [],
   "source": [
    "data_ini = '02/05/2021'\n",
    "data_fim = '03/05/2021'\n",
    "\n",
    "stamp_ini = utc_to_timestamp(data_ini)\n",
    "stamp_fim = utc_to_timestamp(data_fim)\n",
    "\n",
    "ethereum_data = cg.get_coin_market_chart_range_by_id(id='ethereum', vs_currency='usd', from_timestamp=stamp_ini, to_timestamp=stamp_fim)"
   ]
  },
  {
   "cell_type": "code",
   "execution_count": 8,
   "metadata": {
    "colab": {
     "base_uri": "https://localhost:8080/"
    },
    "id": "SlC58--vPfiX",
    "outputId": "6f982caf-05c9-4caa-8ea4-6c9b71dd88f7"
   },
   "outputs": [
    {
     "data": {
      "text/plain": [
       "{'prices': [[1619924534949, 2954.7437528603964],\n",
       "  [1619928218481, 2909.0068402957177],\n",
       "  [1619931813963, 2931.5244264561798],\n",
       "  [1619935321079, 2918.9489112269302],\n",
       "  [1619938918633, 2917.3710387489955],\n",
       "  [1619942584730, 2899.8126063297564],\n",
       "  [1619946030783, 2880.9256946976357],\n",
       "  [1619949874411, 2897.2900352700735],\n",
       "  [1619953388442, 2928.4058753092927],\n",
       "  [1619957108885, 2945.569891261253],\n",
       "  [1619960962007, 2930.5504211887974],\n",
       "  [1619964981704, 2923.218898360683],\n",
       "  [1619967821335, 2919.569643301663],\n",
       "  [1619971451504, 2928.155126147829],\n",
       "  [1619974935462, 2930.1679927592545],\n",
       "  [1619978645234, 2937.436434521464],\n",
       "  [1619982033753, 2969.151466880701],\n",
       "  [1619985620694, 2973.7986391421573],\n",
       "  [1619989217194, 2971.4370432069995],\n",
       "  [1619993055088, 2974.6464455324294],\n",
       "  [1619996675212, 2950.261922905021],\n",
       "  [1620000408627, 2953.777448939646],\n",
       "  [1620004036904, 2998.257702706348],\n",
       "  [1620007458313, 3020.633946974935]],\n",
       " 'market_caps': [[1619924534949, 340992570402.6203],\n",
       "  [1619928218481, 338099816549.5782],\n",
       "  [1619931813963, 337843500275.7508],\n",
       "  [1619935321079, 337859304401.6489],\n",
       "  [1619938918633, 337554531089.3554],\n",
       "  [1619942584730, 334619888313.63824],\n",
       "  [1619946030783, 332709126856.4434],\n",
       "  [1619949874411, 332418745666.54193],\n",
       "  [1619953388442, 338042615639.4135],\n",
       "  [1619957108885, 339256609965.51605],\n",
       "  [1619960962007, 338629795307.5895],\n",
       "  [1619964981704, 338710336867.4196],\n",
       "  [1619967821335, 337450059402.8111],\n",
       "  [1619971451504, 339406454011.7953],\n",
       "  [1619974935462, 339474692991.4543],\n",
       "  [1619978645234, 340113448874.2178],\n",
       "  [1619982033753, 341103488863.21655],\n",
       "  [1619985620694, 344255126102.0115],\n",
       "  [1619989217194, 343406396089.6574],\n",
       "  [1619993055088, 344206623004.5987],\n",
       "  [1619996675212, 340503417034.7127],\n",
       "  [1620000408627, 341739480845.0344],\n",
       "  [1620004036904, 347016691678.98755],\n",
       "  [1620007458313, 350074610753.94446]],\n",
       " 'total_volumes': [[1619924534949, 36526495079.11598],\n",
       "  [1619928218481, 36398795630.306725],\n",
       "  [1619931813963, 37653756542.87748],\n",
       "  [1619935321079, 36838472481.29301],\n",
       "  [1619938918633, 37360384291.58341],\n",
       "  [1619942584730, 37458400488.117935],\n",
       "  [1619946030783, 36857779322.50486],\n",
       "  [1619949874411, 37455559031.4349],\n",
       "  [1619953388442, 38291763675.823166],\n",
       "  [1619957108885, 38489676925.49886],\n",
       "  [1619960962007, 38186195774.368286],\n",
       "  [1619964981704, 37347210144.96755],\n",
       "  [1619967821335, 37051421269.80698],\n",
       "  [1619971451504, 37077912350.67204],\n",
       "  [1619974935462, 36866035176.04632],\n",
       "  [1619978645234, 35975777359.75386],\n",
       "  [1619982033753, 36136824871.82029],\n",
       "  [1619985620694, 36426389954.30548],\n",
       "  [1619989217194, 36418143366.471855],\n",
       "  [1619993055088, 36357626576.762535],\n",
       "  [1619996675212, 36201488712.104004],\n",
       "  [1620000408627, 35621008482.30482],\n",
       "  [1620004036904, 37246886526.44748],\n",
       "  [1620007458313, 38159334776.73495]]}"
      ]
     },
     "execution_count": 8,
     "metadata": {},
     "output_type": "execute_result"
    }
   ],
   "source": [
    "ethereum_data"
   ]
  },
  {
   "cell_type": "code",
   "execution_count": 9,
   "metadata": {
    "colab": {
     "base_uri": "https://localhost:8080/"
    },
    "id": "E_CMpMbLPET5",
    "outputId": "44dd081e-b350-46ac-d710-a5245b752a28"
   },
   "outputs": [
    {
     "data": {
      "text/plain": [
       "{'prices': [['02/05/2021 00:02', 2954.7437528603964],\n",
       "  ['02/05/2021 01:03', 2909.0068402957177],\n",
       "  ['02/05/2021 02:03', 2931.5244264561798],\n",
       "  ['02/05/2021 03:02', 2918.9489112269302],\n",
       "  ['02/05/2021 04:01', 2917.3710387489955],\n",
       "  ['02/05/2021 05:03', 2899.8126063297564],\n",
       "  ['02/05/2021 06:00', 2880.9256946976357],\n",
       "  ['02/05/2021 07:04', 2897.2900352700735],\n",
       "  ['02/05/2021 08:03', 2928.4058753092927],\n",
       "  ['02/05/2021 09:05', 2945.569891261253],\n",
       "  ['02/05/2021 10:09', 2930.5504211887974],\n",
       "  ['02/05/2021 11:16', 2923.218898360683],\n",
       "  ['02/05/2021 12:03', 2919.569643301663],\n",
       "  ['02/05/2021 13:04', 2928.155126147829],\n",
       "  ['02/05/2021 14:02', 2930.1679927592545],\n",
       "  ['02/05/2021 15:04', 2937.436434521464],\n",
       "  ['02/05/2021 16:00', 2969.151466880701],\n",
       "  ['02/05/2021 17:00', 2973.7986391421573],\n",
       "  ['02/05/2021 18:00', 2971.4370432069995],\n",
       "  ['02/05/2021 19:04', 2974.6464455324294],\n",
       "  ['02/05/2021 20:04', 2950.261922905021],\n",
       "  ['02/05/2021 21:06', 2953.777448939646],\n",
       "  ['02/05/2021 22:07', 2998.257702706348],\n",
       "  ['02/05/2021 23:04', 3020.633946974935]],\n",
       " 'market_caps': [['02/05/2021 00:02', 340992570402.6203],\n",
       "  ['02/05/2021 01:03', 338099816549.5782],\n",
       "  ['02/05/2021 02:03', 337843500275.7508],\n",
       "  ['02/05/2021 03:02', 337859304401.6489],\n",
       "  ['02/05/2021 04:01', 337554531089.3554],\n",
       "  ['02/05/2021 05:03', 334619888313.63824],\n",
       "  ['02/05/2021 06:00', 332709126856.4434],\n",
       "  ['02/05/2021 07:04', 332418745666.54193],\n",
       "  ['02/05/2021 08:03', 338042615639.4135],\n",
       "  ['02/05/2021 09:05', 339256609965.51605],\n",
       "  ['02/05/2021 10:09', 338629795307.5895],\n",
       "  ['02/05/2021 11:16', 338710336867.4196],\n",
       "  ['02/05/2021 12:03', 337450059402.8111],\n",
       "  ['02/05/2021 13:04', 339406454011.7953],\n",
       "  ['02/05/2021 14:02', 339474692991.4543],\n",
       "  ['02/05/2021 15:04', 340113448874.2178],\n",
       "  ['02/05/2021 16:00', 341103488863.21655],\n",
       "  ['02/05/2021 17:00', 344255126102.0115],\n",
       "  ['02/05/2021 18:00', 343406396089.6574],\n",
       "  ['02/05/2021 19:04', 344206623004.5987],\n",
       "  ['02/05/2021 20:04', 340503417034.7127],\n",
       "  ['02/05/2021 21:06', 341739480845.0344],\n",
       "  ['02/05/2021 22:07', 347016691678.98755],\n",
       "  ['02/05/2021 23:04', 350074610753.94446]],\n",
       " 'total_volumes': [['02/05/2021 00:02', 36526495079.11598],\n",
       "  ['02/05/2021 01:03', 36398795630.306725],\n",
       "  ['02/05/2021 02:03', 37653756542.87748],\n",
       "  ['02/05/2021 03:02', 36838472481.29301],\n",
       "  ['02/05/2021 04:01', 37360384291.58341],\n",
       "  ['02/05/2021 05:03', 37458400488.117935],\n",
       "  ['02/05/2021 06:00', 36857779322.50486],\n",
       "  ['02/05/2021 07:04', 37455559031.4349],\n",
       "  ['02/05/2021 08:03', 38291763675.823166],\n",
       "  ['02/05/2021 09:05', 38489676925.49886],\n",
       "  ['02/05/2021 10:09', 38186195774.368286],\n",
       "  ['02/05/2021 11:16', 37347210144.96755],\n",
       "  ['02/05/2021 12:03', 37051421269.80698],\n",
       "  ['02/05/2021 13:04', 37077912350.67204],\n",
       "  ['02/05/2021 14:02', 36866035176.04632],\n",
       "  ['02/05/2021 15:04', 35975777359.75386],\n",
       "  ['02/05/2021 16:00', 36136824871.82029],\n",
       "  ['02/05/2021 17:00', 36426389954.30548],\n",
       "  ['02/05/2021 18:00', 36418143366.471855],\n",
       "  ['02/05/2021 19:04', 36357626576.762535],\n",
       "  ['02/05/2021 20:04', 36201488712.104004],\n",
       "  ['02/05/2021 21:06', 35621008482.30482],\n",
       "  ['02/05/2021 22:07', 37246886526.44748],\n",
       "  ['02/05/2021 23:04', 38159334776.73495]]}"
      ]
     },
     "execution_count": 9,
     "metadata": {},
     "output_type": "execute_result"
    }
   ],
   "source": [
    "ethereum_data_utc = adjust_date(ethereum_data)\n",
    "ethereum_data_utc"
   ]
  }
 ],
 "metadata": {
  "colab": {
   "authorship_tag": "ABX9TyN+BdR0iDIjjvpUpCSdWZWO",
   "collapsed_sections": [],
   "include_colab_link": true,
   "name": "pycoingecko_test.ipynb",
   "provenance": []
  },
  "kernelspec": {
   "display_name": "Python 3",
   "language": "python",
   "name": "python3"
  },
  "language_info": {
   "codemirror_mode": {
    "name": "ipython",
    "version": 3
   },
   "file_extension": ".py",
   "mimetype": "text/x-python",
   "name": "python",
   "nbconvert_exporter": "python",
   "pygments_lexer": "ipython3",
   "version": "3.8.8"
  }
 },
 "nbformat": 4,
 "nbformat_minor": 1
}
