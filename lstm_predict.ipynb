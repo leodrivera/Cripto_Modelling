{
 "metadata": {
  "language_info": {
   "codemirror_mode": {
    "name": "ipython",
    "version": 3
   },
   "file_extension": ".py",
   "mimetype": "text/x-python",
   "name": "python",
   "nbconvert_exporter": "python",
   "pygments_lexer": "ipython3",
   "version": "3.9.6"
  },
  "orig_nbformat": 4,
  "kernelspec": {
   "name": "python3",
   "display_name": "Python 3.9.6 64-bit ('pydinah': venv)"
  },
  "interpreter": {
   "hash": "1571388e75941d3efcda287d17da709d112e176fd0b8fadf2d3abad06f724cda"
  }
 },
 "nbformat": 4,
 "nbformat_minor": 2,
 "cells": [
  {
   "cell_type": "code",
   "execution_count": 1,
   "metadata": {},
   "outputs": [],
   "source": [
    "import re\n",
    "from pycoingecko import CoinGeckoAPI\n",
    "from datetime import datetime\n",
    "import pandas as pd"
   ]
  },
  {
   "cell_type": "code",
   "execution_count": 2,
   "metadata": {},
   "outputs": [],
   "source": [
    "cg = CoinGeckoAPI()"
   ]
  },
  {
   "cell_type": "code",
   "execution_count": 3,
   "metadata": {},
   "outputs": [],
   "source": [
    "def utc_to_timestamp(data):\n",
    "    '''\n",
    "    Get the date from the format dd/mm/yyyy and convert to timestamp\n",
    "    '''\n",
    "    #Get day, month, year\n",
    "    data = data.split('/')\n",
    "    day = re.sub('^0','',data[0])\n",
    "    month = re.sub('^0','',data[1])\n",
    "    year = data[2]\n",
    "\n",
    "    #Put into the yyyy/mm/dd format\n",
    "    date = datetime(int(year), int(month), int(day))\n",
    "\n",
    "    #Remove decimal part\n",
    "    \n",
    "    return '{:.0f}'.format(datetime.timestamp(date))\n",
    "\n",
    "def timestamp_to_utc(data):\n",
    "    '''\n",
    "    Get the date from the format timestamp, Ex: 1619913921870, and convert to format dd/mm/yyy, in a tuple\n",
    "    '''\n",
    "    data = datetime.fromtimestamp(int(data)/1000)\n",
    "\n",
    "    #Get day, month, year\n",
    "    day = '{:02.0f}'.format(data.day)\n",
    "    month = '{:02.0f}'.format(data.month)\n",
    "    year = '{:04.0f}'.format(data.year)\n",
    "    hour = '{:02.0f}'.format(data.hour)\n",
    "    minute = '{:02.0f}'.format(data.minute)\n",
    "\n",
    "    return (day,month,year,hour,minute)\n",
    "\n",
    "def adjust_date(data):\n",
    "    new_dict = {}\n",
    "    for categories, values in data.items():\n",
    "        new_list = []\n",
    "        for stamp in values:\n",
    "            day,month,year,hour,minute=timestamp_to_utc(stamp[0])\n",
    "            new_list.append([f'{day}/{month}/{year} {hour}:{minute}', stamp[1]])\n",
    "        new_dict[categories] = new_list\n",
    "    return new_dict"
   ]
  },
  {
   "cell_type": "code",
   "execution_count": 4,
   "metadata": {},
   "outputs": [
    {
     "output_type": "execute_result",
     "data": {
      "text/plain": [
       "             Price\n",
       "count    24.000000\n",
       "mean   2940.194259\n",
       "std      32.771986\n",
       "min    2880.925695\n",
       "25%    2919.414460\n",
       "50%    2931.037424\n",
       "75%    2958.345681\n",
       "max    3020.633947"
      ],
      "text/html": "<div>\n<style scoped>\n    .dataframe tbody tr th:only-of-type {\n        vertical-align: middle;\n    }\n\n    .dataframe tbody tr th {\n        vertical-align: top;\n    }\n\n    .dataframe thead th {\n        text-align: right;\n    }\n</style>\n<table border=\"1\" class=\"dataframe\">\n  <thead>\n    <tr style=\"text-align: right;\">\n      <th></th>\n      <th>Price</th>\n    </tr>\n  </thead>\n  <tbody>\n    <tr>\n      <th>count</th>\n      <td>24.000000</td>\n    </tr>\n    <tr>\n      <th>mean</th>\n      <td>2940.194259</td>\n    </tr>\n    <tr>\n      <th>std</th>\n      <td>32.771986</td>\n    </tr>\n    <tr>\n      <th>min</th>\n      <td>2880.925695</td>\n    </tr>\n    <tr>\n      <th>25%</th>\n      <td>2919.414460</td>\n    </tr>\n    <tr>\n      <th>50%</th>\n      <td>2931.037424</td>\n    </tr>\n    <tr>\n      <th>75%</th>\n      <td>2958.345681</td>\n    </tr>\n    <tr>\n      <th>max</th>\n      <td>3020.633947</td>\n    </tr>\n  </tbody>\n</table>\n</div>"
     },
     "metadata": {},
     "execution_count": 4
    }
   ],
   "source": [
    "data_ini = '02/05/2021'\n",
    "data_fim = '03/05/2021'\n",
    "\n",
    "stamp_ini = utc_to_timestamp(data_ini)\n",
    "stamp_fim = utc_to_timestamp(data_fim)\n",
    "\n",
    "ethereum_data = cg.get_coin_market_chart_range_by_id(id='ethereum', vs_currency='usd', from_timestamp=stamp_ini, to_timestamp=stamp_fim)\n",
    "ethereum_data_utc = adjust_date(ethereum_data)\n",
    "df = pd.DataFrame(ethereum_data_utc['prices'], columns=['Datetime','Price'])\n",
    "df.describe()"
   ]
  },
  {
   "cell_type": "code",
   "execution_count": null,
   "metadata": {},
   "outputs": [],
   "source": []
  }
 ]
}